{
 "cells": [
  {
   "cell_type": "code",
   "execution_count": null,
   "id": "b0c28350",
   "metadata": {},
   "outputs": [
    {
     "name": "stderr",
     "output_type": "stream",
     "text": [
      "c:\\Users\\User\\Desktop\\TRIAL\\trial\\Lib\\site-packages\\torch\\utils\\_pytree.py:185: FutureWarning: optree is installed but the version is too old to support PyTorch Dynamo in C++ pytree. C++ pytree support is disabled. Please consider upgrading optree using `python3 -m pip install --upgrade 'optree>=0.13.0'`.\n",
      "  warnings.warn(\n"
     ]
    }
   ],
   "source": [
    "import torch\n",
    "import torch.nn as nn\n",
    "\n",
    "class VanillaTransformer(nn.Module):\n",
    "    def __init__(self, token_dim=128, num_heads=4, num_layers=2, dropout=0.1):\n",
    "        super(VanillaTransformer, self).__init__()\n",
    "\n",
    "        self.token_dim = token_dim\n",
    "        self.pos_encoding = nn.Parameter(torch.randn(1, 9, token_dim))  # learned positional encoding\n",
    "\n",
    "        encoder_layer = nn.TransformerEncoderLayer(\n",
    "            d_model=token_dim,\n",
    "            nhead=num_heads,\n",
    "            dropout=dropout,\n",
    "            dim_feedforward=4 * token_dim,\n",
    "            batch_first=True  # important: input should be [B, N, D]\n",
    "        )\n",
    "\n",
    "        self.transformer = nn.TransformerEncoder(encoder_layer, num_layers=num_layers)\n",
    "\n",
    "    def forward(self, x):\n",
    "        \"\"\"\n",
    "        x: tensor of shape [B, 9, D] = token sequence from dRoFE\n",
    "        returns: same shape [B, 9, D] = encoded token sequence\n",
    "        \"\"\"\n",
    "        x = x + self.pos_encoding  # add learned positional encoding\n",
    "        out = self.transformer(x)  # apply N transformer layers\n",
    "        return out\n"
   ]
  },
  {
   "cell_type": "code",
   "execution_count": null,
   "id": "7c4eb712",
   "metadata": {},
   "outputs": [
    {
     "name": "stdout",
     "output_type": "stream",
     "text": [
      "Transformer output shape: torch.Size([2, 9, 128])\n"
     ]
    }
   ],
   "source": [
    "B, N, D = 2, 9, 128\n",
    "dummy_tokens = torch.randn(B, N, D)\n",
    "\n",
    "model = VanillaTransformer(token_dim=128, num_heads=4, num_layers=2)\n",
    "output = model(dummy_tokens)\n",
    "\n",
    "print(\"Transformer output shape:\", output.shape)\n",
    "## NB: in the true version(not dummy) we should use Q rotated and K rotated of the dRoFe token\n"
   ]
  },
  {
   "cell_type": "markdown",
   "id": "465a539f",
   "metadata": {},
   "source": [
    "What it does:\n",
    "Processes the enriched tokens from dRoFE to learn contextual relationships between the tokens (e.g., how different frequency bands interact in the context of the demographic data).\n",
    "\n",
    "Uses self-attention and feedforward layers to produce context-aware embeddings.\n",
    "\n",
    "Input: Enriched tokens from dRoFE ([B, 9, D]).\n",
    "\n",
    "Output: Contextually enriched tokens of shape [B, 9, D].\n"
   ]
  }
 ],
 "metadata": {
  "kernelspec": {
   "display_name": "trial",
   "language": "python",
   "name": "python3"
  },
  "language_info": {
   "codemirror_mode": {
    "name": "ipython",
    "version": 3
   },
   "file_extension": ".py",
   "mimetype": "text/x-python",
   "name": "python",
   "nbconvert_exporter": "python",
   "pygments_lexer": "ipython3",
   "version": "3.12.5"
  }
 },
 "nbformat": 4,
 "nbformat_minor": 5
}
