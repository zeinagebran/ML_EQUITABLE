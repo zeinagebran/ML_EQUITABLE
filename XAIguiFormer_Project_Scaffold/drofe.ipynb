{
 "cells": [
  {
   "cell_type": "code",
   "execution_count": null,
   "id": "3cfa24d4",
   "metadata": {},
   "outputs": [
    {
     "name": "stderr",
     "output_type": "stream",
     "text": [
      "c:\\Users\\User\\Desktop\\TRIAL\\trial\\Lib\\site-packages\\torch\\utils\\_pytree.py:185: FutureWarning: optree is installed but the version is too old to support PyTorch Dynamo in C++ pytree. C++ pytree support is disabled. Please consider upgrading optree using `python3 -m pip install --upgrade 'optree>=0.13.0'`.\n",
      "  warnings.warn(\n"
     ]
    }
   ],
   "source": [
    "import torch\n",
    "import torch.nn as nn\n",
    "import math\n",
    "\n",
    "class dRoFE(nn.Module):\n",
    "    def __init__(self, token_dim):\n",
    "        super(dRoFE, self).__init__()\n",
    "        self.token_dim = token_dim\n",
    "\n",
    "        # Learnable projections for demographic injection\n",
    "        self.age_proj = nn.Linear(1, token_dim)\n",
    "        self.gender_proj = nn.Embedding(2, token_dim)  # Assuming gender is 0 or 1\n",
    "\n",
    "        # Learnable embedding for each frequency band (9 bands)\n",
    "        self.band_proj = nn.Embedding(9, token_dim)\n",
    "\n",
    "    def forward(self, X, band_indices, age, gender):\n",
    "        \"\"\"\n",
    "        X: [B, 9, D]         ← token sequence (1 per frequency band)\n",
    "        band_indices: [9]   ← integers 0–8 indicating band index\n",
    "        age: [B]             ← float tensor of ages\n",
    "        gender: [B]          ← 0 or 1 tensor\n",
    "\n",
    "        Returns:\n",
    "            Q_rotated, K_rotated\n",
    "        \"\"\"\n",
    "\n",
    "        B, N, D = X.shape  # B=batch, N=9 tokens, D=token_dim\n",
    "\n",
    "        # Inject band encoding (same across batch)\n",
    "        band_emb = self.band_proj(band_indices.to(X.device))  # [9, D]\n",
    "        band_emb = band_emb.unsqueeze(0).expand(B, -1, -1)     # [B, 9, D]\n",
    "\n",
    "        # Inject age (broadcast across tokens)\n",
    "        age = age.view(B, 1, 1)  # [B, 1, 1]\n",
    "        age_emb = self.age_proj(age)  # [B, 1, D]\n",
    "        age_emb = age_emb.expand(-1, N, -1)  # [B, 9, D]\n",
    "\n",
    "        # Inject gender\n",
    "        gender_emb = self.gender_proj(gender)  # [B, D]\n",
    "        gender_emb = gender_emb.unsqueeze(1).expand(-1, N, -1)  # [B, 9, D]\n",
    "\n",
    "        # Rotate Q and K using the sum of all embeddings\n",
    "        enriched = X + band_emb + age_emb + gender_emb\n",
    "\n",
    "        Q_rotated = enriched\n",
    "        K_rotated = enriched\n",
    "\n",
    "        return Q_rotated, K_rotated\n"
   ]
  },
  {
   "cell_type": "code",
   "execution_count": null,
   "id": "abaa03c4",
   "metadata": {},
   "outputs": [
    {
     "name": "stdout",
     "output_type": "stream",
     "text": [
      "Q shape: torch.Size([2, 9, 128])\n",
      "K shape: torch.Size([2, 9, 128])\n"
     ]
    }
   ],
   "source": [
    "# Simulate 2 batches\n",
    "X = torch.randn(2, 9, 128)\n",
    "band_indices = torch.arange(9)\n",
    "age = torch.tensor([25.0, 40.0])\n",
    "gender = torch.tensor([1, 0])\n",
    "\n",
    "# call the module\n",
    "drofe_module = dRoFE(token_dim=128)\n",
    "Q, K = drofe_module(X, band_indices, age, gender)\n",
    "\n",
    "print(\"Q shape:\", Q.shape)\n",
    "print(\"K shape:\", K.shape)\n"
   ]
  },
  {
   "cell_type": "markdown",
   "id": "d1ac5667",
   "metadata": {},
   "source": [
    "What it does: Enriches the tokens from the ConnectomeTokenizer by injecting demographic information (age, gender) and frequency band embeddings.\n",
    "\n",
    "This ensures that the tokens carry both graph-level information and demographic context.\n",
    "\n",
    "Input:\n",
    "\n",
    "Tokens from the ConnectomeTokenizer ([B, 9, D]).\n",
    "Demographic data: age ([B]), gender ([B]).\n",
    "Frequency band indices: [9].\n",
    "\n",
    "Output: Enriched tokens of shape [B, 9, D]."
   ]
  }
 ],
 "metadata": {
  "kernelspec": {
   "display_name": "trial",
   "language": "python",
   "name": "python3"
  },
  "language_info": {
   "codemirror_mode": {
    "name": "ipython",
    "version": 3
   },
   "file_extension": ".py",
   "mimetype": "text/x-python",
   "name": "python",
   "nbconvert_exporter": "python",
   "pygments_lexer": "ipython3",
   "version": "3.12.5"
  }
 },
 "nbformat": 4,
 "nbformat_minor": 5
}
